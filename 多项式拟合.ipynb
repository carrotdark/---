{
 "cells": [
  {
   "cell_type": "code",
   "execution_count": 2,
   "id": "a6634fe3",
   "metadata": {},
   "outputs": [],
   "source": [
    "import math\n",
    "import numpy as np\n",
    "import torch\n",
    "from torch import nn\n",
    "import torch.optim as optim\n",
    "import torch.utils.data as data\n",
    "from torch.utils.data import TensorDataset"
   ]
  },
  {
   "cell_type": "code",
   "execution_count": 3,
   "id": "697885b2",
   "metadata": {},
   "outputs": [
    {
     "name": "stdout",
     "output_type": "stream",
     "text": [
      "[ 0  1  2  3  4  5  6  7  8  9 10 11 12 13 14 15 16 17 18 19]\n",
      "[         1          3          9         27         81        243\n",
      "        729       2187       6561      19683      59049     177147\n",
      "     531441    1594323    4782969   14348907   43046721  129140163\n",
      "  387420489 1162261467]\n"
     ]
    }
   ],
   "source": [
    "print(np.arange(20))\n",
    "poly_features = np.power(3, np.arange(20))\n",
    "print(poly_features)"
   ]
  },
  {
   "cell_type": "code",
   "execution_count": 4,
   "id": "e291bb03",
   "metadata": {},
   "outputs": [
    {
     "name": "stdout",
     "output_type": "stream",
     "text": [
      "[  5.98116748   5.53454648   4.49673763   2.29901218   3.01269733\n",
      "   5.39262599   5.08779548   6.94132676   5.26135316   7.2963345\n",
      "   5.219275     4.87145041   5.60646233   5.3154984    2.91210804\n",
      "   4.84168084   5.25806667  -0.96649512   5.41085954   4.66282728\n",
      "   4.76232116   5.51618068   6.19052242   5.31237867  -0.67424944\n",
      "   1.21102062   3.91091262   1.59639953  -5.73950553   4.46380425\n",
      "  -0.49230668   6.51607459   5.30437479   4.93873335   4.18037538\n",
      " -25.91750836 -24.29388588   5.02769374  -3.8792823    1.54103988\n",
      "  -1.46802319   5.15195526   5.16613381   5.29445411   4.94624803\n",
      "   4.33996959   7.5126955   -2.41888706   3.95565043   1.50077017\n",
      "   4.51137846   4.3982749    5.1197532    4.58867247   5.35083343\n",
      "   4.99525279   5.27607887   5.47406004   4.93953359   5.4797279\n",
      "  -2.95612254   5.13877434  -5.25001925   5.25913667   5.24308424\n",
      "  -8.06312627   4.46912989   5.18556833   5.32602981   5.29816849\n",
      "  -6.59871569 -10.03242255   6.28120187   5.16873906   5.20152104\n",
      "   5.57986659  -0.32113377   5.39260925   3.67144094  -0.51170753\n",
      "   0.57097707   4.01670423   5.16190204   5.31866048   2.05919225\n",
      "   3.85720777   6.9347226  -26.70147094   5.72379752   4.69156636\n",
      "   5.30718497   5.723857     5.29603444   5.13510107 -35.04073871\n",
      "   5.44321144   5.38751863   2.02046537   5.3408687    5.06787111\n",
      "  -0.3648329    5.36149454  14.45856822   2.51634146   5.228151\n",
      "   5.34871472 -16.53131631   4.59639326   5.33388812   4.6885689\n",
      "   3.94851625  -0.21915288   5.26012886   6.46689175   5.30769303\n",
      "   4.72583067  -0.94757645   4.79687961  -0.28946824   4.72441368\n",
      "   0.81498452   4.65506947  10.57770046   5.18991215   4.77891528\n",
      "   6.51938674   8.4054816    3.36215242   6.26967378   7.5160807\n",
      " -28.94519485   2.9198346    5.29177742  -2.21688296   5.2076623\n",
      "   5.37287572   5.31580452   5.33804241 -16.47608035  -1.47460491\n",
      "   0.93363627  13.49158461   5.30431416   4.56634295   5.11284426\n",
      "   7.37276575  -2.99210681   4.87526819   5.23255676   3.54187539\n",
      "   4.08926923   4.46005627   4.92783989   5.80351577   4.91947381\n",
      "   5.32192126   5.32751876   5.35929822   4.99017777   1.16073402\n",
      "  -0.19392952   3.70393983   5.91269285   3.07696208   5.27539695\n",
      "   4.00643876   5.3858729    4.09534445   4.18154553   5.57030998\n",
      "   3.22128397   4.81743207 -18.10981975   4.59908484   5.29271034\n",
      "   0.12342753   5.87886746   3.41476334   4.21979864   5.39025573\n",
      "   3.93423404   5.26653184   5.38049092   5.30015503   4.94840853\n",
      "   4.72983942   1.61086555   5.05693065   5.08520173  -0.28865706\n",
      "   4.99829261   2.54348366   3.927955     5.07847086   4.1422099\n",
      "   1.74122893   4.11636946  -0.71399923   3.92773978   3.62990724]\n",
      "200\n"
     ]
    }
   ],
   "source": [
    "max_degree = 20  # 多项式的最大阶数\n",
    "n_train, n_test = 100, 100  # 训练和测试数据集大小\n",
    "true_w = np.zeros(max_degree)  # 分配大量的空间\n",
    "true_w[0:4] = np.array([5, 1.2, -3.4, 5.6])\n",
    "\n",
    "features = np.random.normal(size=(n_train + n_test, 1))\n",
    "np.random.shuffle(features)\n",
    "poly_features = np.power(features, np.arange(max_degree).reshape(1, -1))\n",
    "for i in range(max_degree):\n",
    "    poly_features[:, i] /= math.gamma(i + 1)  # gamma(n)=(n-1)!\n",
    "# labels的维度:(n_train+n_test,)\n",
    "labels = np.dot(poly_features, true_w) \n",
    "print(labels)\n",
    "print(len(labels))\n",
    "labels += np.random.normal(scale=0.1, size=labels.shape)\n"
   ]
  },
  {
   "cell_type": "code",
   "execution_count": 5,
   "id": "36e156fc",
   "metadata": {},
   "outputs": [
    {
     "data": {
      "text/plain": [
       "(array([[1.43589105],\n",
       "        [1.13274457]]),\n",
       " array([[1.00000000e+00, 1.43589105e+00, 1.03089155e+00, 4.93415981e-01,\n",
       "         1.77122897e-01, 5.08658364e-02, 1.21729665e-02, 2.49700766e-03,\n",
       "         4.48178867e-04, 7.15040024e-05, 1.02671957e-05, 1.34023403e-06,\n",
       "         1.60369170e-07, 1.77132812e-08, 1.81673870e-09, 1.73909256e-10,\n",
       "         1.56071714e-11, 1.31824692e-12, 1.05158831e-13, 7.94719071e-15],\n",
       "        [1.00000000e+00, 1.13274457e+00, 6.41555130e-01, 2.42239363e-01,\n",
       "         6.85988309e-02, 1.55409906e-02, 2.93399546e-03, 4.74781061e-04,\n",
       "         6.72257086e-05, 8.46106182e-06, 9.58422183e-07, 9.86952294e-08,\n",
       "         9.31637377e-09, 8.11774754e-10, 6.56809603e-11, 4.95998341e-12,\n",
       "         3.51149642e-13, 2.33978147e-14, 1.47243042e-15, 8.77835561e-17]]),\n",
       " array([6.03297329, 5.5583457 ]))"
      ]
     },
     "execution_count": 5,
     "metadata": {},
     "output_type": "execute_result"
    }
   ],
   "source": [
    "# NumPy ndarray转换为tensor\n",
    "numpy_arrays = [true_w, features, poly_features, labels]\n",
    "tensors = [torch.from_numpy(arr) for arr in numpy_arrays]\n",
    "true_w_tensor, features_tensor, poly_features_tensor, labels_tensor = tensors\n",
    "\n",
    "\n",
    "features[:2], poly_features[:2, :], labels[:2]"
   ]
  },
  {
   "cell_type": "code",
   "execution_count": 6,
   "id": "deed9f76",
   "metadata": {},
   "outputs": [],
   "source": [
    "class Accumulator:  #@save\n",
    "    \"\"\"在n个变量上累加\"\"\"\n",
    "    def __init__(self, n):\n",
    "        self.data = [0.0] * n\n",
    "\n",
    "    def add(self, *args):\n",
    "        self.data = [a + float(b) for a, b in zip(self.data, args)]\n",
    "\n",
    "    def reset(self):\n",
    "        self.data = [0.0] * len(self.data)\n",
    "\n",
    "    def __getitem__(self, idx):\n",
    "        return self.data[idx]\n",
    "def evaluate_loss(net, data_iter, loss):  #@save\n",
    "    \"\"\"评估给定数据集上模型的损失\"\"\"\n",
    "    metric = Accumulator(2)  # 损失的总和,样本数量\n",
    "    for X, y in data_iter:\n",
    "        out = net(X)\n",
    "        y = y.reshape(out.shape)\n",
    "        l = loss(out, y)\n",
    "        metric.add(l.sum())\n",
    "    return metric[0]\n",
    "def train_epoch_ch3(net, train_iter, loss,trainer):  #@save\n",
    "    \"\"\"训练模型一个迭代周期（定义见第3章）\"\"\"\n",
    "    # 将模型设置为训练模式\n",
    "    if isinstance(net, torch.nn.Module):\n",
    "        net.train()\n",
    "    # 训练损失总和、训练准确度总和、样本数\n",
    "    metric = Accumulator(3)\n",
    "    critizen = nn.MSELoss(reduction='none')\n",
    "    #updater=optim.SGD(net.parameters, 0.1, 20)\n",
    "    #X,y=next(iter(train_iter))\n",
    "    for X, y in train_iter:\n",
    "        # 计算梯度并更新参数\n",
    "        y_hat = net(X)\n",
    "        \n",
    "\n",
    "        l=critizen(y_hat, y)\n",
    "        trainer.zero_grad()\n",
    "        l.backward(torch.ones_like(y_hat))\n",
    "        trainer.step()\n",
    "    # else:\n",
    "    #     # 使用定制的优化器和损失函数\n",
    "    #     l.sum().backward()\n",
    "    #     updater(X.shape[0])\n",
    "    metric.add(float(l.sum()), 0, 0)\n",
    "    # 返回训练损失和训练精度\n",
    "    return metric[0]\n",
    "def load_array(features,labels,batch_size, resize=None):  #@save\n",
    "    dataset = TensorDataset(torch.tensor(features,dtype=torch.float32), torch.tensor(labels,dtype=torch.float32))\n",
    "    return data.DataLoader(dataset, batch_size, shuffle=True,\n",
    "                            num_workers=12)"
   ]
  },
  {
   "cell_type": "code",
   "execution_count": 7,
   "id": "aa681157",
   "metadata": {},
   "outputs": [
    {
     "name": "stdout",
     "output_type": "stream",
     "text": [
      "tensor([[ 1.0000e+00, -3.9340e-03,  7.7383e-06, -1.0148e-08],\n",
      "        [ 1.0000e+00,  2.3875e-02,  2.8501e-04,  2.2682e-06],\n",
      "        [ 1.0000e+00, -1.0768e+00,  5.7980e-01, -2.0812e-01],\n",
      "        [ 1.0000e+00, -1.4329e+00,  1.0266e+00, -4.9037e-01],\n",
      "        [ 1.0000e+00,  1.1835e-01,  7.0030e-03,  2.7626e-04],\n",
      "        [ 1.0000e+00,  1.0683e+00,  5.7061e-01,  2.0319e-01],\n",
      "        [ 1.0000e+00,  1.5611e+00,  1.2185e+00,  6.3408e-01],\n",
      "        [ 1.0000e+00,  3.2656e-01,  5.3320e-02,  5.8041e-03],\n",
      "        [ 1.0000e+00,  1.0608e+00,  5.6261e-01,  1.9893e-01],\n",
      "        [ 1.0000e+00, -9.5355e-01,  4.5463e-01, -1.4450e-01]]) tensor([[ 4.9312],\n",
      "        [ 5.0719],\n",
      "        [ 0.6250],\n",
      "        [-3.0737],\n",
      "        [ 5.1691],\n",
      "        [ 5.6737],\n",
      "        [ 6.1107],\n",
      "        [ 5.1819],\n",
      "        [ 5.4788],\n",
      "        [ 1.5250]])\n"
     ]
    }
   ],
   "source": [
    "#print(poly_features[:n_train, :4])\n",
    "#print( labels[:n_train])\n",
    "train_iter = load_array(poly_features[:n_train, :4], labels[:n_train].reshape(-1,1),10)\n",
    "\n",
    "x,y=next(iter(train_iter))\n",
    "print(x,y)"
   ]
  },
  {
   "cell_type": "code",
   "execution_count": 8,
   "id": "d2b3022b",
   "metadata": {},
   "outputs": [],
   "source": [
    "# print(x.shape)\n",
    "# print(x.shape[-1])\n",
    "# net=nn.Sequential(nn.Linear(x.shape[-1], 1, bias=False))\n",
    "# if isinstance(net, torch.nn.Module):\n",
    "#         net.train()\n",
    "#     # 训练损失总和、训练准确度总和、样本数\n",
    "# metric = Accumulator(3)\n",
    "# #updater=optim.SGD(net.parameters, 0.1, 20)\n",
    "# #X,y=next(iter(train_iter))\n",
    "# trainer = torch.optim.SGD(net.parameters(), lr=0.01)\n",
    "# y_hat = net(x)\n",
    "# print(y_hat)\n",
    "# critizen = nn.MSELoss()\n",
    "# trainer.zero_grad()\n",
    "# l=critizen(y_hat,y)\n",
    "# l.backward()\n",
    "# trainer.step()"
   ]
  },
  {
   "cell_type": "code",
   "execution_count": null,
   "id": "9aeb4c80",
   "metadata": {},
   "outputs": [
    {
     "name": "stdout",
     "output_type": "stream",
     "text": [
      "训练： 260.8212537765503\n",
      "测试： 309.4965295791626\n",
      "训练： 17.998680233955383\n",
      "测试： 108.27854335308075\n",
      "训练： 15.036430448293686\n",
      "测试： 92.26175925135612\n",
      "训练： 9.858259081840515\n",
      "测试： 83.83563834428787\n",
      "训练： 9.22137701511383\n",
      "测试： 65.68872049450874\n"
     ]
    }
   ],
   "source": [
    "def train(train_features, test_features, train_labels, test_labels,\n",
    "          num_epochs=60):\n",
    "    loss = nn.MSELoss(reduction='none')\n",
    "    input_shape = train_features.shape[-1]\n",
    "    # 不设置偏置，因为我们已经在多项式中实现了它\n",
    "    net = nn.Sequential(nn.Linear(input_shape, 1, bias=False))\n",
    "    batch_size = min(10, train_labels.shape[0])\n",
    "    train_iter = load_array(train_features, train_labels.reshape(-1,1),\n",
    "                                batch_size)\n",
    "    test_iter = load_array(test_features, test_labels.reshape(-1,1),\n",
    "                               batch_size)\n",
    "    trainer = torch.optim.SGD(net.parameters(), lr=0.01)\n",
    "\n",
    "    for epoch in range(num_epochs):\n",
    "        train_epoch_ch3(net, train_iter, loss, trainer)\n",
    "        if epoch == 0 or (epoch + 1) % 3 == 0:\n",
    "            print(\"训练：\",evaluate_loss(net, train_iter, loss))\n",
    "            print(\"测试：\",evaluate_loss(net, test_iter, loss))\n",
    "    print('weight:', net[0].weight.data.numpy())\n",
    "\n",
    "# 从多项式特征中选择前4个维度，即1,x,x^2/2!,x^3/3!\n",
    "train(poly_features[:n_train, :10], poly_features[n_train:, :10],\n",
    "      labels[:n_train], labels[n_train:],60)"
   ]
  },
  {
   "cell_type": "code",
   "execution_count": null,
   "id": "f5e75896",
   "metadata": {},
   "outputs": [
    {
     "ename": "TypeError",
     "evalue": "load_array() missing 1 required positional argument: 'batch_size'",
     "output_type": "error",
     "traceback": [
      "\u001b[31m---------------------------------------------------------------------------\u001b[39m",
      "\u001b[31mTypeError\u001b[39m                                 Traceback (most recent call last)",
      "\u001b[36mCell\u001b[39m\u001b[36m \u001b[39m\u001b[32mIn[14]\u001b[39m\u001b[32m, line 2\u001b[39m\n\u001b[32m      1\u001b[39m \u001b[38;5;66;03m# 从多项式特征中选择前4个维度，即1,x,x^2/2!,x^3/3!\u001b[39;00m\n\u001b[32m----> \u001b[39m\u001b[32m2\u001b[39m \u001b[43mtrain\u001b[49m\u001b[43m(\u001b[49m\u001b[43mpoly_features\u001b[49m\u001b[43m[\u001b[49m\u001b[43m:\u001b[49m\u001b[43mn_train\u001b[49m\u001b[43m,\u001b[49m\u001b[43m \u001b[49m\u001b[43m:\u001b[49m\u001b[32;43m4\u001b[39;49m\u001b[43m]\u001b[49m\u001b[43m,\u001b[49m\u001b[43m \u001b[49m\u001b[43mpoly_features\u001b[49m\u001b[43m[\u001b[49m\u001b[43mn_train\u001b[49m\u001b[43m:\u001b[49m\u001b[43m,\u001b[49m\u001b[43m \u001b[49m\u001b[43m:\u001b[49m\u001b[32;43m4\u001b[39;49m\u001b[43m]\u001b[49m\u001b[43m,\u001b[49m\n\u001b[32m      3\u001b[39m \u001b[43m      \u001b[49m\u001b[43mlabels\u001b[49m\u001b[43m[\u001b[49m\u001b[43m:\u001b[49m\u001b[43mn_train\u001b[49m\u001b[43m]\u001b[49m\u001b[43m,\u001b[49m\u001b[43m \u001b[49m\u001b[43mlabels\u001b[49m\u001b[43m[\u001b[49m\u001b[43mn_train\u001b[49m\u001b[43m:\u001b[49m\u001b[43m]\u001b[49m\u001b[43m,\u001b[49m\u001b[32;43m20\u001b[39;49m\u001b[43m)\u001b[49m\n",
      "\u001b[36mCell\u001b[39m\u001b[36m \u001b[39m\u001b[32mIn[8]\u001b[39m\u001b[32m, line 8\u001b[39m, in \u001b[36mtrain\u001b[39m\u001b[34m(train_features, test_features, train_labels, test_labels, num_epochs)\u001b[39m\n\u001b[32m      6\u001b[39m net = nn.Sequential(nn.Linear(input_shape, \u001b[32m1\u001b[39m, bias=\u001b[38;5;28;01mFalse\u001b[39;00m))\n\u001b[32m      7\u001b[39m batch_size = \u001b[38;5;28mmin\u001b[39m(\u001b[32m10\u001b[39m, train_labels.shape[\u001b[32m0\u001b[39m])\n\u001b[32m----> \u001b[39m\u001b[32m8\u001b[39m train_iter = \u001b[43mload_array\u001b[49m\u001b[43m(\u001b[49m\u001b[43m(\u001b[49m\u001b[43mtrain_features\u001b[49m\u001b[43m,\u001b[49m\u001b[43m \u001b[49m\u001b[43mtrain_labels\u001b[49m\u001b[43m.\u001b[49m\u001b[43mreshape\u001b[49m\u001b[43m(\u001b[49m\u001b[43m-\u001b[49m\u001b[32;43m1\u001b[39;49m\u001b[43m,\u001b[49m\u001b[32;43m1\u001b[39;49m\u001b[43m)\u001b[49m\u001b[43m)\u001b[49m\u001b[43m,\u001b[49m\n\u001b[32m      9\u001b[39m \u001b[43m                            \u001b[49m\u001b[43mbatch_size\u001b[49m\u001b[43m)\u001b[49m\n\u001b[32m     10\u001b[39m test_iter = load_array((test_features, test_labels.reshape(-\u001b[32m1\u001b[39m,\u001b[32m1\u001b[39m)),\n\u001b[32m     11\u001b[39m                            batch_size, is_train=\u001b[38;5;28;01mFalse\u001b[39;00m)\n\u001b[32m     12\u001b[39m trainer = torch.optim.SGD(net.parameters(), lr=\u001b[32m0.01\u001b[39m)\n",
      "\u001b[31mTypeError\u001b[39m: load_array() missing 1 required positional argument: 'batch_size'"
     ]
    }
   ],
   "source": [
    "# 从多项式特征中选择前4个维度，即1,x,x^2/2!,x^3/3!\n",
    "train(poly_features[:n_train, :4], poly_features[n_train:, :4],\n",
    "      labels[:n_train], labels[n_train:],20)"
   ]
  }
 ],
 "metadata": {
  "kernelspec": {
   "display_name": "Python 3",
   "language": "python",
   "name": "python3"
  },
  "language_info": {
   "codemirror_mode": {
    "name": "ipython",
    "version": 3
   },
   "file_extension": ".py",
   "mimetype": "text/x-python",
   "name": "python",
   "nbconvert_exporter": "python",
   "pygments_lexer": "ipython3",
   "version": "3.13.3"
  }
 },
 "nbformat": 4,
 "nbformat_minor": 5
}
