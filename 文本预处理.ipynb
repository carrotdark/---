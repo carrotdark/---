{
 "cells": [
  {
   "cell_type": "code",
   "execution_count": 1,
   "id": "8314af2e",
   "metadata": {},
   "outputs": [],
   "source": [
    "import collections\n",
    "import re\n"
   ]
  },
  {
   "cell_type": "code",
   "execution_count": null,
   "id": "5ff71cbf",
   "metadata": {},
   "outputs": [
    {
     "name": "stdout",
     "output_type": "stream",
     "text": [
      "*** START OF THE PROJECT GUTENBERG EBOOK 35 ***\n",
      "told him he was suffering from overwork, at which he laughed hugely. I\n"
     ]
    },
    {
     "ename": "ValueError",
     "evalue": "'*** START OF THE PROJECT GUTENBERG EBOOK 35 ***' is not in list",
     "output_type": "error",
     "traceback": [
      "\u001b[31m---------------------------------------------------------------------------\u001b[39m",
      "\u001b[31mValueError\u001b[39m                                Traceback (most recent call last)",
      "\u001b[36mCell\u001b[39m\u001b[36m \u001b[39m\u001b[32mIn[7]\u001b[39m\u001b[32m, line 19\u001b[39m\n\u001b[32m     14\u001b[39m     content_lines = lines[start_idx:end_idx]\n\u001b[32m     16\u001b[39m     \u001b[38;5;28;01mreturn\u001b[39;00m [re.sub(\u001b[33m'\u001b[39m\u001b[33m[^A-Za-z]+\u001b[39m\u001b[33m'\u001b[39m, \u001b[33m'\u001b[39m\u001b[33m \u001b[39m\u001b[33m'\u001b[39m, line).strip().lower() \n\u001b[32m     17\u001b[39m            \u001b[38;5;28;01mfor\u001b[39;00m line \u001b[38;5;129;01min\u001b[39;00m content_lines \u001b[38;5;28;01mif\u001b[39;00m line.strip()]\n\u001b[32m---> \u001b[39m\u001b[32m19\u001b[39m lines = \u001b[43mdownload_time_machine\u001b[49m\u001b[43m(\u001b[49m\u001b[43m)\u001b[49m\n\u001b[32m     20\u001b[39m \u001b[38;5;28mprint\u001b[39m(\u001b[33mf\u001b[39m\u001b[33m'\u001b[39m\u001b[33m文本总行数: \u001b[39m\u001b[38;5;132;01m{\u001b[39;00m\u001b[38;5;28mlen\u001b[39m(lines)\u001b[38;5;132;01m}\u001b[39;00m\u001b[33m'\u001b[39m)\n\u001b[32m     21\u001b[39m \u001b[38;5;28mprint\u001b[39m(lines[\u001b[32m0\u001b[39m])  \u001b[38;5;66;03m# 输出首行\u001b[39;00m\n",
      "\u001b[36mCell\u001b[39m\u001b[36m \u001b[39m\u001b[32mIn[7]\u001b[39m\u001b[32m, line 12\u001b[39m, in \u001b[36mdownload_time_machine\u001b[39m\u001b[34m()\u001b[39m\n\u001b[32m     10\u001b[39m \u001b[38;5;28mprint\u001b[39m(lines[-\u001b[32m100\u001b[39m]) \u001b[38;5;66;03m# 输出第11行\u001b[39;00m\n\u001b[32m     11\u001b[39m \u001b[38;5;66;03m# 跳过古登堡计划的元数据部分\u001b[39;00m\n\u001b[32m---> \u001b[39m\u001b[32m12\u001b[39m start_idx = \u001b[43mlines\u001b[49m\u001b[43m.\u001b[49m\u001b[43mindex\u001b[49m\u001b[43m(\u001b[49m\u001b[33;43m\"\u001b[39;49m\u001b[33;43m*** START OF THE PROJECT GUTENBERG EBOOK 35 ***\u001b[39;49m\u001b[33;43m\"\u001b[39;49m\u001b[43m)\u001b[49m + \u001b[32m2\u001b[39m\n\u001b[32m     13\u001b[39m end_idx = lines.index(\u001b[33m\"\u001b[39m\u001b[33mEnd of the Project Gutenberg EBook\u001b[39m\u001b[33m\"\u001b[39m)\n\u001b[32m     14\u001b[39m content_lines = lines[start_idx:end_idx]\n",
      "\u001b[31mValueError\u001b[39m: '*** START OF THE PROJECT GUTENBERG EBOOK 35 ***' is not in list"
     ]
    }
   ],
   "source": [
    "\n",
    "import re\n",
    "import requests\n",
    "\n",
    "def download_time_machine():\n",
    "    \"\"\"独立下载并处理时间机器数据集\"\"\"\n",
    "    url = \"https://www.gutenberg.org/files/35/35-0.txt\"\n",
    "    response = requests.get(url)\n",
    "    lines = response.text.split('\\n')\n",
    "    print(lines[0])  # 输出首行\n",
    "    print(lines[-100]) # 输出第11行\n",
    "    # 跳过古登堡计划的元数据部分\n",
    "\n",
    "    \n",
    "    return [re.sub('[^A-Za-z]+', ' ', line).strip().lower() \n",
    "           for line in lines if line.strip()]\n",
    "\n",
    "lines = download_time_machine()\n",
    "print(f'文本总行数: {len(lines)}')\n",
    "print(lines[0])  # 输出首行\n",
    "print(lines[10]) # 输出第11行\n"
   ]
  }
 ],
 "metadata": {
  "kernelspec": {
   "display_name": "Python 3",
   "language": "python",
   "name": "python3"
  },
  "language_info": {
   "codemirror_mode": {
    "name": "ipython",
    "version": 3
   },
   "file_extension": ".py",
   "mimetype": "text/x-python",
   "name": "python",
   "nbconvert_exporter": "python",
   "pygments_lexer": "ipython3",
   "version": "3.13.3"
  }
 },
 "nbformat": 4,
 "nbformat_minor": 5
}
